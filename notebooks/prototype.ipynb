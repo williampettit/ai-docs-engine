{
 "cells": [
  {
   "cell_type": "code",
   "execution_count": 38,
   "metadata": {},
   "outputs": [],
   "source": [
    "import ast\n",
    "from termcolor import cprint"
   ]
  },
  {
   "cell_type": "code",
   "execution_count": 39,
   "metadata": {},
   "outputs": [],
   "source": [
    "def check_for_docstring(node):\n",
    "  if hasattr(node, 'body') and node.body and isinstance(node.body[0], ast.Expr) and isinstance(node.body[0].value, ast.Str):\n",
    "    return True\n",
    "  return False"
   ]
  },
  {
   "cell_type": "code",
   "execution_count": 40,
   "metadata": {},
   "outputs": [],
   "source": [
    "def walk_python_code(source_code_path):\n",
    "  with open(source_code_path) as file:\n",
    "    source_code = file.read()\n",
    "  \n",
    "  tree = ast.parse(source_code)\n",
    "\n",
    "  for node in ast.walk(tree):\n",
    "    # Skip nodes that already have a docstring\n",
    "    if check_for_docstring(node):\n",
    "      cprint(f'node {node} already has a docstring', 'red')\n",
    "      cprint('-' * 80)\n",
    "      continue\n",
    "    \n",
    "    if isinstance(node, (ast.FunctionDef, ast.AsyncFunctionDef)):\n",
    "      cprint(f'func node name: {node.name}', 'yellow')\n",
    "      cprint(f'func node docstring: {ast.get_docstring(node)}', 'yellow')\n",
    "      cprint(f'func node source code: {ast.get_source_segment(source_code, node)}', 'yellow')\n",
    "      cprint('-' * 80)\n",
    "    elif isinstance(node, ast.ClassDef):\n",
    "      cprint(f'class node name: {node.name}', 'magenta')\n",
    "      cprint(f'class node docstring: {ast.get_docstring(node)}', 'magenta')\n",
    "      cprint(f'class node source code: {ast.get_source_segment(source_code, node)}', 'magenta')\n",
    "      cprint('-' * 80)"
   ]
  },
  {
   "cell_type": "code",
   "execution_count": 41,
   "metadata": {},
   "outputs": [
    {
     "name": "stdout",
     "output_type": "stream",
     "text": [
      "\u001b[33mfunc node name: example_func_0\u001b[0m\n",
      "\u001b[33mfunc node docstring: None\u001b[0m\n",
      "\u001b[33mfunc node source code: def example_func_0():\n",
      "  print(\"Hello\")\u001b[0m\n",
      "--------------------------------------------------------------------------------\u001b[0m\n",
      "\u001b[33mfunc node name: example_func_1\u001b[0m\n",
      "\u001b[33mfunc node docstring: None\u001b[0m\n",
      "\u001b[33mfunc node source code: def example_func_1(arg0, arg1):\n",
      "  print(arg0, arg1)\u001b[0m\n",
      "--------------------------------------------------------------------------------\u001b[0m\n",
      "\u001b[31mnode <ast.FunctionDef object at 0x1062519f0> already has a docstring\u001b[0m\n",
      "--------------------------------------------------------------------------------\u001b[0m\n",
      "\u001b[35mclass node name: ExampleClass\u001b[0m\n",
      "\u001b[35mclass node docstring: None\u001b[0m\n",
      "\u001b[35mclass node source code: class ExampleClass:\n",
      "  def __init__(self, value) -> None:\n",
      "    self.value = value\n",
      "  \n",
      "  def print(self):\n",
      "    print(self.value)\n",
      "\n",
      "  def print_reversed(self):\n",
      "    print(reversed(self.value))\u001b[0m\n",
      "--------------------------------------------------------------------------------\u001b[0m\n",
      "\u001b[33mfunc node name: __init__\u001b[0m\n",
      "\u001b[33mfunc node docstring: None\u001b[0m\n",
      "\u001b[33mfunc node source code: def __init__(self, value) -> None:\n",
      "    self.value = value\u001b[0m\n",
      "--------------------------------------------------------------------------------\u001b[0m\n",
      "\u001b[33mfunc node name: print\u001b[0m\n",
      "\u001b[33mfunc node docstring: None\u001b[0m\n",
      "\u001b[33mfunc node source code: def print(self):\n",
      "    print(self.value)\u001b[0m\n",
      "--------------------------------------------------------------------------------\u001b[0m\n",
      "\u001b[33mfunc node name: print_reversed\u001b[0m\n",
      "\u001b[33mfunc node docstring: None\u001b[0m\n",
      "\u001b[33mfunc node source code: def print_reversed(self):\n",
      "    print(reversed(self.value))\u001b[0m\n",
      "--------------------------------------------------------------------------------\u001b[0m\n",
      "CPU times: user 985 µs, sys: 545 µs, total: 1.53 ms\n",
      "Wall time: 1.1 ms\n"
     ]
    }
   ],
   "source": [
    "%%time\n",
    "walk_python_code('demo_python_source.py')"
   ]
  }
 ],
 "metadata": {
  "kernelspec": {
   "display_name": "Python 3",
   "language": "python",
   "name": "python3"
  },
  "language_info": {
   "codemirror_mode": {
    "name": "ipython",
    "version": 3
   },
   "file_extension": ".py",
   "mimetype": "text/x-python",
   "name": "python",
   "nbconvert_exporter": "python",
   "pygments_lexer": "ipython3",
   "version": "3.11.4"
  },
  "orig_nbformat": 4
 },
 "nbformat": 4,
 "nbformat_minor": 2
}
